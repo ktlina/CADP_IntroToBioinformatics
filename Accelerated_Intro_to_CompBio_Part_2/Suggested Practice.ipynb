{
 "cells": [
  {
   "cell_type": "markdown",
   "metadata": {},
   "source": [
    "# Practice Suggestions\n",
    "\n",
    "## Suggestion 1  (challenging)\n",
    "\n",
    "Create and query a database representing a research programme.  In a research programme, individual researchers are involved in one or more projects (many to many), and each project may use one or more individual organisms (one to many)  The tables will be:\n",
    "\n",
    "Researcher --  Project -- Organisms\n",
    "\n",
    "* The Researcher table has information like name, role (PI, Co-PI, technician)\n",
    "* The Project table has information like project ID, funding agency\n",
    "* The Organisms table has information like ear-tag number, species\n",
    "\n",
    "Create three CSV files with a few lines of data, where: a researcher is involved in more than one project, and a different projects include the same researcher; AND a project includes multiple organisms from the organisms table, but each organism is only used within one project.\n",
    "\n",
    "Build the database, and the code to fill it and query it.\n",
    "\n",
    "\n",
    "## Suggestion 2 (easier)\n",
    "\n",
    "\n",
    "Create and query a database representing a simple laboratory information management system.  In a LIMS, Projects involve multiple Organisms (one to many), and each Organism may provide several Samples (one to many).\n",
    "\n",
    "The tables will be:\n",
    "\n",
    "Project -- Organisms -- Samples\n",
    "\n",
    "* The Project table has information like project ID, funding agency\n",
    "* The organisms table has information like ear-tag number, species\n",
    "* The Samples table has information like tissue (blood, kidney, lung, etc.), collection date, freezer-location\n",
    "\n",
    "Create three CSV files with a few lines of data.\n",
    "\n",
    "Build the database, and the code to fill it and query it.\n"
   ]
  }
 ],
 "metadata": {
  "kernelspec": {
   "display_name": "Python 3",
   "language": "python",
   "name": "python3"
  },
  "language_info": {
   "codemirror_mode": {
    "name": "ipython",
    "version": 3
   },
   "file_extension": ".py",
   "mimetype": "text/x-python",
   "name": "python",
   "nbconvert_exporter": "python",
   "pygments_lexer": "ipython3",
   "version": "3.7.3"
  }
 },
 "nbformat": 4,
 "nbformat_minor": 2
}
