{
 "cells": [
  {
   "cell_type": "markdown",
   "metadata": {},
   "source": [
    "# Functions\n",
    "\n",
    "This is our final topic in this introductory Python module, and it is important because it is the first step toward becoming a \"GOOD\" programmer, versus a \"CRAP\" programmer!  If you use Functions properly (and their \"big brothers\" - Objects - which you will learn in Dr. Wabnik's section) then your software will be:\n",
    "* easier to understand\n",
    "* easier to maintain/edit\n",
    "* more bug-free\n",
    "* more reusable\n",
    "\n",
    "##  DRY Principle\n",
    "\n",
    "There is an important rule for good software design:  [DRY --> Don't Repeat Yourself](http://wiki.c2.com/?DontRepeatYourself)\n",
    "\n",
    "Look at the code in the box below:\n"
   ]
  },
  {
   "cell_type": "code",
   "execution_count": null,
   "metadata": {},
   "outputs": [],
   "source": [
    "studentfile = open(\"students.csv\", \"r\")\n",
    "\n",
    "studentfile.seek(0)   # set pointer back to the beginning in case we have run this before\n",
    "\n",
    "for line in studentfile.readlines():\n",
    "    line = line.rstrip()\n",
    "    name, age = line.split(',')\n",
    "    age = int(age)   # necessary to convert the string '50' to the integer 50\n",
    "\n",
    "    if age % 2 == 0:\n",
    "        even_odd = \"even\"\n",
    "        known = \"not known\"\n",
    "        if name in [\"Mark\", \"Carmen\", \"Denise\", \"Pedro\"]:\n",
    "            known = \"KNOWN\"\n",
    "        print(\"Name:\", name, \"\\tAge:\", age, \"\\tage is even/odd?\", even_odd,\"\\tDo we know this person?\", known)\n",
    "    else:\n",
    "        even_odd = \"odd\"\n",
    "        known = \"not known\"\n",
    "        if name in [\"Mark\", \"Carmen\", \"Denise\", \"Pedro\"]:\n",
    "            known = \"KNOWN\"\n",
    "        print(\"Name:\", name, \" \\tAge:\", age, \"\\tage is even/odd?\", even_odd,\"\\tDo we know this person?\", known)\n",
    "    \n",
    "    "
   ]
  },
  {
   "cell_type": "markdown",
   "metadata": {},
   "source": [
    "\n",
    "## THAT IS UGLY, AWFUL CODE!!\n",
    "\n",
    "If I ever see code like that from you, I will take away your lunch!\n",
    "\n",
    "Why is it so bad?  Because it is:\n",
    "* repetitive\n",
    "* not very abstract\n",
    "\n",
    "The blocks of code in the \"if\" and \"else\" statements are almost identical, except for the variable values!  This makes the entire programme hard to read (and if you do this frequently, it is VERY hard to debug, because if you find a bug, you have to fix the bug in multiple places).  For this reason, the **Don't Repeat Yourself** principle forbids you from writing such awful, ugly code!\n",
    "\n",
    "So what can we do instead?  That's what Functions are for!\n",
    "\n",
    "### Functions create reusable blocks of \"functionality\"\n",
    "\n",
    "What we need to do is to look at the code, and decide which parts are \"reusable\" and which parts are \"unique\".  The reusable parts can be abstracted into a Function.  \n",
    "\n",
    "I have not seen a good introductory-level explanation of how to do this... it's something that becomes more intuitive over time!  At first, you will make bad choices - the punishment for bad choices is that your software needs to be updated and debugged more often!\n",
    "\n",
    "In this case, the duplicated pieces of code seem to be:\n",
    "* checking if the name is in a list\n",
    "* printing the statement\n",
    "\n",
    "So we will put those into a Function so that we can reuse them!\n",
    "\n",
    "Functions in Python have the following structure:\n",
    "\n",
    "    def name_of_function ( parameters )\n",
    "        # do stuff here\n",
    "        return EXPRESSION\n",
    "\n",
    "For example:"
   ]
  },
  {
   "cell_type": "code",
   "execution_count": null,
   "metadata": {},
   "outputs": [],
   "source": [
    "def create_sentence():\n",
    "    known = \"not known\"\n",
    "    age = '50'\n",
    "    name = \"Mark\"\n",
    "    sentence = str(''.join([\"Name: \", name, \" \\tAge: \", age, \"\\tDo we know this person? \", known]))    \n",
    "    return sentence\n",
    "\n",
    "\n",
    "print(create_sentence())  # note that the call to a function must come AFTER the function has been defined!\n",
    "\n"
   ]
  },
  {
   "cell_type": "markdown",
   "metadata": {},
   "source": [
    "\n",
    "### Easy! \n",
    "\n",
    "In that piece of code, we defined a function called \"create_sentence\".  We then called it inside of our print statement.  Easy!\n",
    "\n",
    "Unfortunately, that function is not very useful :-)  It can only print one sentence - the same sentence every time!  How do we make this Function more flexible?  We need to pass it information.\n",
    "\n",
    "We can redefine the function to allow it to bring-in various information, like name, and age.  Let's try again:\n",
    "\n"
   ]
  },
  {
   "cell_type": "code",
   "execution_count": null,
   "metadata": {},
   "outputs": [],
   "source": [
    "def create_sentence(name, age):\n",
    "    known = \"not known\"\n",
    "    age = str(age)\n",
    "    sentence = str(''.join([\"Name: \", name, \" \\tAge: \", age, \"\\tDo we know this person? \", known]))    \n",
    "    return sentence\n",
    "\n",
    "\n",
    "print(create_sentence(\"Mark\", 50))\n",
    "print(create_sentence(\"James\", 11))\n",
    "\n"
   ]
  },
  {
   "cell_type": "markdown",
   "metadata": {},
   "source": [
    "\n",
    "<pre>\n",
    "\n",
    "\n",
    "</pre>\n",
    "That is MUCH better!\n",
    "\n",
    "Now let's go back to our original problem...\n",
    "\n"
   ]
  },
  {
   "cell_type": "code",
   "execution_count": null,
   "metadata": {},
   "outputs": [],
   "source": [
    "def create_sentence(name, age):\n",
    "    even_odd = \"odd\"\n",
    "    age = int(age)\n",
    "    if age % 2 == 0:\n",
    "        even_odd = \"even\"\n",
    "    known = \"not known\"\n",
    "    if name in [\"Mark\", \"Carmen\", \"Denise\", \"Pedro\"]:\n",
    "        known = \"KNOWN\"\n",
    "    # this line doesn't work... we will discuss why in a minute\n",
    "    # return \"Name: \", name, \" \\tAge: \", str(age), \"\\tage is even/odd?\", even_odd, \"\\tDo we know this person? \", known\n",
    "    return str(''.join([\"Name: \", name, \" \\tAge: \", str(age), \"\\tage is even/odd?\", even_odd, \"\\tDo we know this person? \", known]))    \n",
    "\n",
    "\n",
    "# ===================== MAIN CODE STARTS HERE ========================\n",
    "\n",
    "\n",
    "studentfile = open(\"students.csv\", \"r\")\n",
    "studentfile.seek(0)   # set pointer back to the beginning in case we have run this before\n",
    "\n",
    "for line in studentfile.readlines():\n",
    "    line = line.rstrip()\n",
    "    name, age = line.split(',')\n",
    "    print(create_sentence(name, age))\n",
    "    "
   ]
  },
  {
   "cell_type": "markdown",
   "metadata": {},
   "source": [
    "\n",
    "You see that the main block of code is much easier to read, now. Also, there is no duplication - only one piece of code to debug if we made a mistake!\n",
    "\n",
    "Now... the last line of the create_sentence function is UUUUUGLY!!!   The problem is that, when we return multiple values separated by commas, they are passed as separate values (like a list of values) and print will print them as a list, instead of printing them by joining them as it normally does.\n",
    "\n",
    "Many languages (Perl, Ruby) have \"string interpolation\", which allows you to simply put variables into a string and the value of those variables is interpreted when the string is created.  For example, in Perl\n",
    "\n",
    "      \n",
    "   \n",
    "      $animal = \"dog\"\n",
    "  $weight = 5\n",
    "      print \"I am the owner of a $animal which weighs $weight kilograms\"\n",
    " \n",
    "      --->  I am the owner of a dog which weighs 5 kilograms\n",
    "    \n",
    "    \n",
    "Python doesn't have this... but it has something close!  It is a string method called \"format\", and it is used like this:\n",
    "\n",
    "\n",
    "    \"I am the owner of a {} which weighs {} kilograms\".format(\"dog\", 5)\n",
    "    \n",
    "\n"
   ]
  },
  {
   "cell_type": "code",
   "execution_count": null,
   "metadata": {},
   "outputs": [],
   "source": [
    "\n",
    "print(\"I am the owner of a {} which weighs {} kilograms\".format(\"dog\", 5))\n"
   ]
  },
  {
   "cell_type": "markdown",
   "metadata": {},
   "source": [
    "\n",
    "So let's make this change in our code:\n"
   ]
  },
  {
   "cell_type": "code",
   "execution_count": null,
   "metadata": {},
   "outputs": [],
   "source": [
    "def create_sentence(name, age):\n",
    "    even_odd = \"odd\"\n",
    "    age = int(age)\n",
    "    if age % 2 == 0:\n",
    "        even_odd = \"even\"\n",
    "    known = \"not known\"\n",
    "    if name in [\"Mark\", \"Carmen\", \"Denise\", \"Pedro\"]:\n",
    "        known = \"KNOWN\"\n",
    "    return str(\"Name: {}\\tAge: {}\\tage is even/odd? {}\\tDo we know this person? {}\".format(name, age, even_odd, known))    \n",
    "\n",
    "\n",
    "# ===================== MAIN CODE STARTS HERE ========================\n",
    "\n",
    "\n",
    "studentfile = open(\"students.csv\", \"r\")\n",
    "studentfile.seek(0)   # set pointer back to the beginning in case we have run this before\n",
    "\n",
    "for line in studentfile.readlines():\n",
    "    line = line.rstrip()\n",
    "    name, age = line.split(',')\n",
    "    print(create_sentence(name, age))"
   ]
  },
  {
   "cell_type": "markdown",
   "metadata": {},
   "source": [
    "\n",
    "Let's spend some time talking about other ways to \"skin this cat\" (horrible English idiom!).  As we discussed earlier, deciding what portions are \"reusable\" and which parts are \"unique\" is something that you will learn over time - there are no rules, but there are \"good habits\" and \"bad habits\".  The solution that we just created is NOT A GOOD ONE!  ...it's just an easy one to understand :-)\n",
    "\n",
    "Let's discuss it!\n"
   ]
  }
 ],
 "metadata": {
  "kernelspec": {
   "display_name": "Python 3",
   "language": "python",
   "name": "python3"
  },
  "language_info": {
   "codemirror_mode": {
    "name": "ipython",
    "version": 3
   },
   "file_extension": ".py",
   "mimetype": "text/x-python",
   "name": "python",
   "nbconvert_exporter": "python",
   "pygments_lexer": "ipython3",
   "version": "3.6.9"
  }
 },
 "nbformat": 4,
 "nbformat_minor": 2
}
