{
 "cells": [
  {
   "cell_type": "markdown",
   "metadata": {},
   "source": [
    "# Jupyter Notebooks\n",
    "\n",
    "You have already been using Jupyter Notebooks for the first ~few days of this course.  Now we are going to discuss them in more detail.\n",
    "\n",
    "First, we will watch a video that walks you through Jupyter, and explains WHY we should be using it (hint: reproducible science!)\n",
    "\n",
    "https://www.dataone.org/webinars/reproducible-science-jupyter-changing-our-publication-models\n",
    "\n",
    "(watch from 2:30 to about 20 minutes - this explains how Jypyter works, and why it is important to the next generation of open, reproducible science)\n",
    "\n",
    "Then we will \"play\" for a few minutes\n",
    "\n",
    "Remember - you have your own copy of the course!  (it's in your github!)  you can take notes in Jupyter by double-clicking on the text boxes (or creating new text/code boxes)\n",
    "\n",
    "So far, we have used the Bash Jupyter kernel.  We will now switch to the Python kernel to learn about databases"
   ]
  },
  {
   "cell_type": "markdown",
   "metadata": {},
   "source": [
    "\n",
    "\n",
    "\n",
    "# Create a new Notebook\n",
    "\n",
    "In the menu bar above, click File/New Notebook/Python3\n",
    "\n",
    "This will create a new Python notebook.  We will use this for a few minutes before we move to the new lesson.\n",
    "\n",
    "In the first code box, enter these instructions:\n",
    "\n",
    "  print(\"hello world\")\n",
    "  \n",
    "Run it to prove that the Python kernel is executing your code properly...\n",
    "\n"
   ]
  }
 ],
 "metadata": {
  "kernelspec": {
   "display_name": "Bash",
   "language": "bash",
   "name": "bash"
  },
  "language_info": {
   "codemirror_mode": "shell",
   "file_extension": ".sh",
   "mimetype": "text/x-sh",
   "name": "bash"
  }
 },
 "nbformat": 4,
 "nbformat_minor": 2
}
