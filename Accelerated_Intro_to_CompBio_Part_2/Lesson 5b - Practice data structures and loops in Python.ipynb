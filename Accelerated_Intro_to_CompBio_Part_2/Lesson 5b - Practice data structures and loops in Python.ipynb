{
 "cells": [
  {
   "cell_type": "markdown",
   "metadata": {},
   "source": [
    "# Practice data structures\n",
    "\n",
    "We will create a data structure to hold our Germplasm data (I have updated it to be a little bit more complex... now a germplasm may hold TWO alleles - i.e. one germplasm has connections to more than one gene)\n",
    "\n",
    "Represent these data in Python - create a **single variable** that contains all of this data (using lists and dictionaries).\n",
    "\n",
    "Create loops over that data structure that can print the three tables to the screen.\n",
    "\n",
    "\n",
    "\n"
   ]
  },
  {
   "cell_type": "markdown",
   "metadata": {},
   "source": [
    "\n",
    "\n",
    "<center>stock table</center>\n",
    "\n",
    "germplasm_id |  amount  |  date  |  location  \n",
    " --- | --- | --- | --- \n",
    " 2 |  5  | 10/5/2013 |  Room 2234  \n",
    " 1 | 9.8  | 12/1/2015 |  Room 998  \n",
    "\n",
    "\n",
    "-----------------------------\n",
    "\n",
    "\n",
    "<center>germplasm table</center>\n",
    "\n",
    "id |  taxonid  |  alleles | genes \n",
    " --- |--- | --- | ---\n",
    " 1 |  4150  | def-1 | DEF\n",
    " 2 | 3701  | ap3,  ag | AP3, AG\n",
    "  \n",
    "--------------------------------\n",
    "\n",
    "<center>gene table</center>\n",
    "\n",
    "  gene  |  gene_name  |  embl\n",
    " --- | ---  | --- \n",
    "  DEF  | Deficiens  | https://www.ebi.ac.uk/ena/data/view/AB516402\n",
    "  AP3  | Apetala3   |   https://www.ebi.ac.uk/ena/data/view/AF056541\n",
    "  AG  | Agamous   |   https://www.ebi.ac.uk/ena/data/view/AL161549\n",
    "  "
   ]
  },
  {
   "cell_type": "markdown",
   "metadata": {},
   "source": [
    "SIMPLE ANSWER (hidden below)"
   ]
  },
  {
   "cell_type": "markdown",
   "metadata": {},
   "source": [
    "More complex..."
   ]
  },
  {
   "cell_type": "markdown",
   "metadata": {},
   "source": [
    "Optimal"
   ]
  },
  {
   "cell_type": "markdown",
   "metadata": {},
   "source": [
    "simple\n",
    "\n",
    "<span style=\"visibility:hidden;\">\n",
    "# put your code here... take it one step at a time!\n",
    "# do just one table\n",
    "genes = []\n",
    "gene = {\"gene\": \"DEF\", \"gene_name\": \"Deficiens\", \"embl\": \"https://www.ebi.ac.uk/ena/data/view/AB516402\"}\n",
    "genes.append(gene)\n",
    "gene = {\"gene\": \"AP3\", \"gene_name\": \"Apetala3\", \"embl\": \"https://www.ebi.ac.uk/ena/data/view/AF056541\"}\n",
    "genes.append(gene)\n",
    "gene = {\"gene\": \"AG\", \"gene_name\": \"Agamous\", \"embl\": \"https://www.ebi.ac.uk/ena/data/view/AL161549\"}\n",
    "genes.append(gene)\n",
    "\n",
    "print(genes)\n",
    "\n",
    "germplasms = []\n",
    "germplasm = {\"id\": 1, \"taxonid\": 4150, \"alleles\": [\"def-1\"], \"genes\": [\"DEF\"]}\n",
    "germplasms.append(germplasm)\n",
    "germplasm = {\"id\": 2, \"taxonid\": 3710, \"alleles\": [\"ap3\", \"ag\"], \"genes\": [\"AP3\", \"AG\"]}\n",
    "germplasms.append(germplasm)\n",
    "\n",
    "print(germplasms)\n",
    "\n",
    "\n",
    "stocks = []\n",
    "stock = {\"germplasm\": 2, \"amount\": 5, \"date\": \"10/5/2013\", \"location\": \"Room 2234\"}\n",
    "stocks.append(stock)\n",
    "stock = {\"germplasm\": 1, \"amount\": 9.8, \"date\": \"12/1/2015\", \"location\": \"Room 998\"}\n",
    "stocks.append(stock)\n",
    "\n",
    "print(stocks)\n",
    "\n",
    "</span>"
   ]
  },
  {
   "cell_type": "markdown",
   "metadata": {},
   "source": [
    "more complex\n",
    "\n",
    "<span style=\"visibility:hidden;\">\n",
    "    \n",
    "    # put your code here... take it one step at a time!\n",
    "# do just one table\n",
    "genes = {}\n",
    "gene = {\"gene\": \"DEF\", \"gene_name\": \"Deficiens\", \"embl\": \"https://www.ebi.ac.uk/ena/data/view/AB516402\"}\n",
    "genes[\"DEF\"] = gene\n",
    "gene = {\"gene\": \"AP3\", \"gene_name\": \"Apetala3\", \"embl\": \"https://www.ebi.ac.uk/ena/data/view/AF056541\"}\n",
    "genes[\"AP3\"] = gene\n",
    "gene = {\"gene\": \"AG\", \"gene_name\": \"Agamous\", \"embl\": \"https://www.ebi.ac.uk/ena/data/view/AL161549\"}\n",
    "genes[\"AG\"] = gene\n",
    "\n",
    "print(genes)\n",
    "\n",
    "\n",
    "germplasms = {}\n",
    "germplasm = {\"id\": 1, \"taxonid\": 4150, \"alleles\": [\"def-1\"], \"genes\": [\"DEF\"]}\n",
    "germplasms[1] = germplasm\n",
    "germplasm = {\"id\": 2, \"taxonid\": 3710, \"alleles\": [\"ap3\", \"ag\"], \"genes\": [\"AP3\", \"AG\"]}\n",
    "germplasms[2] = germplasm\n",
    "\n",
    "print(germplasms)\n",
    "\n",
    "\n",
    "stocks = {}\n",
    "stock = {\"germplasm\": 2, \"amount\": 5, \"date\": \"10/5/2013\", \"location\": \"Room 2234\"}\n",
    "stocks[1] = stock\n",
    "stock = {\"germplasm\": 1, \"amount\": 9.8, \"date\": \"12/1/2015\", \"location\": \"Room 998\"}\n",
    "stocks[2] = stock\n",
    "\n",
    "print(stocks)\n",
    "\n",
    "print(genes[\"DEF\"][\"embl\"])\n",
    "\n",
    "<span>"
   ]
  },
  {
   "cell_type": "markdown",
   "metadata": {},
   "source": [
    "optimal\n",
    "\n",
    "<span style=\"visibility:hidden;\">\n",
    "# put your code here... take it one step at a time!\n",
    "# do just one table\n",
    "\n",
    "genes = {}\n",
    "gene = {\"gene\": \"DEF\", \"gene_name\": \"Deficiens\", \"embl\": \"https://www.ebi.ac.uk/ena/data/view/AB516402\"}\n",
    "genes[\"DEF\"] = gene\n",
    "gene = {\"gene\": \"AP3\", \"gene_name\": \"Apetala3\", \"embl\": \"https://www.ebi.ac.uk/ena/data/view/AF056541\"}\n",
    "genes[\"AP3\"] = gene\n",
    "gene = {\"gene\": \"AG\", \"gene_name\": \"Agamous\", \"embl\": \"https://www.ebi.ac.uk/ena/data/view/AL161549\"}\n",
    "genes[\"AG\"] = gene\n",
    "\n",
    "#print(genes)\n",
    "\n",
    "germplasms = {}\n",
    "germplasm = {\"id\": 1, \"taxonid\": 4150, \"alleles\": [\"def-1\"], \"genes\": [genes[\"DEF\"]]}\n",
    "germplasms[1] = germplasm\n",
    "germplasm = {\"id\": 2, \"taxonid\": 3710, \"alleles\": [\"ap3\", \"ag\"], \"genes\": [genes[\"AP3\"], genes[\"AG\"]]}\n",
    "germplasms[2] = germplasm\n",
    "\n",
    "#print(germplasms)\n",
    "\n",
    "stocks = {}\n",
    "stock = {\"germplasm\": germplasms[2], \"amount\": 5, \"date\": \"10/5/2013\", \"location\": \"Room 2234\"}\n",
    "stocks[1] = stock\n",
    "stock = {\"germplasm\": germplasms[1], \"amount\": 9.8, \"date\": \"12/1/2015\", \"location\": \"Room 998\"}\n",
    "stocks[2] = stock\n",
    "\n",
    "#print(stocks.keys())\n",
    "\n",
    "for s in stocks.keys():\n",
    "    print(\"location: \", stocks[s][\"location\"])\n",
    "    print(\"germplasm taxon: \",  stocks[s][\"germplasm\"][\"taxonid\"])\n",
    "    print(\"germplasm taxon: \",  stocks[s][\"germplasm\"][\"genes\"][0][\"embl\"])\n",
    "    \n",
    "print(\"\\n\\nreaching into the objects...\\n\\n\")\n",
    "for s in stocks.keys():\n",
    "    print(\"location: \", stocks[s][\"location\"])\n",
    "    print(\"germplasm taxon: \",  stocks[s][\"germplasm\"][\"taxonid\"])\n",
    "    for gene in stocks[s][\"germplasm\"][\"genes\"]:\n",
    "        print(\"Gene Name: \", gene[\"gene_name\"], \" with embl url: \", gene[\"embl\"])\n",
    "\n",
    "</style>"
   ]
  },
  {
   "cell_type": "markdown",
   "metadata": {},
   "source": [
    "<span style=\"visibility:hidden;\">\n",
    "DEF = {'id': 'DEF', 'name': 'Deficiens', 'embl': 'http://AB123434'}\n",
    "AP3 = {'id': 'AP3', 'name': 'Apetala3', 'embl': 'http://AB123434'}\n",
    "AG = {'id': 'AG', 'name': 'Agamous', 'embl': 'http://AB123434'}\n",
    "gp1 = {'id': 1, 'taxon': 4150, 'alleles': ['def1'], 'genes': [DEF]}\n",
    "gp2 = {'id': 2, 'taxon': 4150, 'alleles': ['ap3', 'ag'], 'genes': [AP3, AG]}\n",
    "stock1 = {'germplasm': gp2, 'amount': 5, 'date': '10/5/2013', 'location': 'Room 2234' }\n",
    "stock2 = {'germplasm': gp1, 'amount': 9.8, 'date': '12/1/2015', 'location': 'Room 998' }\n",
    "database = [stock1, stock2]\n",
    "for stock in database:\n",
    "    print(stock['germplasm']['id'], \", \", stock['amount'],\",\",stock['date'],\",\",stock['location'])\n",
    "</span>"
   ]
  }
 ],
 "metadata": {
  "kernelspec": {
   "display_name": "Python 3",
   "language": "python",
   "name": "python3"
  },
  "language_info": {
   "codemirror_mode": {
    "name": "ipython",
    "version": 3
   },
   "file_extension": ".py",
   "mimetype": "text/x-python",
   "name": "python",
   "nbconvert_exporter": "python",
   "pygments_lexer": "ipython3",
   "version": "3.7.3"
  }
 },
 "nbformat": 4,
 "nbformat_minor": 2
}
